{
 "cells": [
  {
   "cell_type": "code",
   "execution_count": 3,
   "metadata": {
    "collapsed": true,
    "ExecuteTime": {
     "end_time": "2025-05-18T00:10:39.014450600Z",
     "start_time": "2025-05-18T00:10:37.014951500Z"
    }
   },
   "outputs": [],
   "source": [
    "from pyspark.sql import SparkSession\n",
    "from pyspark.sql.functions import when, col\n",
    "from pyspark.ml import Pipeline\n",
    "from pyspark.ml.feature import Tokenizer, StopWordsRemover, HashingTF, IDF\n",
    "from pyspark.ml.classification import LogisticRegression\n",
    "import os"
   ]
  },
  {
   "cell_type": "markdown",
   "source": [
    "# 1. Start Spark session"
   ],
   "metadata": {
    "collapsed": false
   }
  },
  {
   "cell_type": "code",
   "execution_count": 4,
   "outputs": [],
   "source": [
    "spark = SparkSession.builder \\\n",
    "    .appName(\"Amazon Sentiment Classification\") \\\n",
    "    .getOrCreate()\n"
   ],
   "metadata": {
    "collapsed": false,
    "ExecuteTime": {
     "end_time": "2025-05-18T00:10:44.791692600Z",
     "start_time": "2025-05-18T00:10:39.014450600Z"
    }
   }
  },
  {
   "cell_type": "markdown",
   "source": [
    "# 2. Load JSON Lines data (each line = 1 JSON object)"
   ],
   "metadata": {
    "collapsed": false
   }
  },
  {
   "cell_type": "code",
   "execution_count": 5,
   "outputs": [],
   "source": [
    "data_path = \"../Data/train_data.json\"\n",
    "df = spark.read.json(data_path)"
   ],
   "metadata": {
    "collapsed": false,
    "ExecuteTime": {
     "end_time": "2025-05-18T00:10:50.522138400Z",
     "start_time": "2025-05-18T00:10:44.791692600Z"
    }
   }
  },
  {
   "cell_type": "markdown",
   "source": [
    "# 3. Select required fields"
   ],
   "metadata": {
    "collapsed": false
   }
  },
  {
   "cell_type": "code",
   "execution_count": 6,
   "outputs": [],
   "source": [
    "df = df.select(\"reviewText\", \"overall\")"
   ],
   "metadata": {
    "collapsed": false,
    "ExecuteTime": {
     "end_time": "2025-05-18T00:10:50.587613900Z",
     "start_time": "2025-05-18T00:10:50.522138400Z"
    }
   }
  },
  {
   "cell_type": "markdown",
   "source": [
    "# 4. Map 'overall' to sentiment label (0: Negative, 1: Neutral, 2: Positive)"
   ],
   "metadata": {
    "collapsed": false
   }
  },
  {
   "cell_type": "code",
   "execution_count": 7,
   "outputs": [],
   "source": [
    "df = df.withColumn(\"label\", when(col(\"overall\") < 3, 0)\n",
    "                             .when(col(\"overall\") == 3, 1)\n",
    "                             .otherwise(2))"
   ],
   "metadata": {
    "collapsed": false,
    "ExecuteTime": {
     "end_time": "2025-05-18T00:10:50.650030200Z",
     "start_time": "2025-05-18T00:10:50.587613900Z"
    }
   }
  },
  {
   "cell_type": "markdown",
   "source": [
    "# 5. Drop rows with nulls"
   ],
   "metadata": {
    "collapsed": false
   }
  },
  {
   "cell_type": "code",
   "execution_count": 8,
   "outputs": [],
   "source": [
    "df = df.dropna(subset=[\"reviewText\", \"label\"])"
   ],
   "metadata": {
    "collapsed": false,
    "ExecuteTime": {
     "end_time": "2025-05-18T00:10:50.672390900Z",
     "start_time": "2025-05-18T00:10:50.650030200Z"
    }
   }
  },
  {
   "cell_type": "markdown",
   "source": [
    "# 6. Text preprocessing pipeline"
   ],
   "metadata": {
    "collapsed": false
   }
  },
  {
   "cell_type": "code",
   "execution_count": 9,
   "outputs": [],
   "source": [
    "tokenizer = Tokenizer(inputCol=\"reviewText\", outputCol=\"words\")\n",
    "remover = StopWordsRemover(inputCol=\"words\", outputCol=\"filtered\")\n",
    "hashingTF = HashingTF(inputCol=\"filtered\", outputCol=\"rawFeatures\", numFeatures=10000)\n",
    "idf = IDF(inputCol=\"rawFeatures\", outputCol=\"features\")"
   ],
   "metadata": {
    "collapsed": false,
    "ExecuteTime": {
     "end_time": "2025-05-18T00:10:50.806322700Z",
     "start_time": "2025-05-18T00:10:50.672390900Z"
    }
   }
  },
  {
   "cell_type": "markdown",
   "source": [
    "# 7. Logistic Regression"
   ],
   "metadata": {
    "collapsed": false
   }
  },
  {
   "cell_type": "code",
   "execution_count": 10,
   "outputs": [],
   "source": [
    "lr = LogisticRegression(featuresCol=\"features\", labelCol=\"label\", maxIter=20)"
   ],
   "metadata": {
    "collapsed": false,
    "ExecuteTime": {
     "end_time": "2025-05-18T00:10:50.863507700Z",
     "start_time": "2025-05-18T00:10:50.806322700Z"
    }
   }
  },
  {
   "cell_type": "markdown",
   "source": [
    "# 8. Pipeline"
   ],
   "metadata": {
    "collapsed": false
   }
  },
  {
   "cell_type": "code",
   "execution_count": 11,
   "outputs": [],
   "source": [
    "pipeline = Pipeline(stages=[tokenizer, remover, hashingTF, idf, lr])"
   ],
   "metadata": {
    "collapsed": false,
    "ExecuteTime": {
     "end_time": "2025-05-18T00:10:50.870579600Z",
     "start_time": "2025-05-18T00:10:50.863507700Z"
    }
   }
  },
  {
   "cell_type": "markdown",
   "source": [
    "# 9. Train model"
   ],
   "metadata": {
    "collapsed": false
   }
  },
  {
   "cell_type": "code",
   "execution_count": 12,
   "outputs": [],
   "source": [
    "model = pipeline.fit(df)"
   ],
   "metadata": {
    "collapsed": false,
    "ExecuteTime": {
     "end_time": "2025-05-18T00:10:59.746051100Z",
     "start_time": "2025-05-18T00:10:50.870579600Z"
    }
   }
  },
  {
   "cell_type": "markdown",
   "source": [
    "# 10. Save model"
   ],
   "metadata": {
    "collapsed": false
   }
  },
  {
   "cell_type": "code",
   "execution_count": 13,
   "outputs": [
    {
     "name": "stdout",
     "output_type": "stream",
     "text": [
      "✅ Model trained and saved successfully!\n"
     ]
    }
   ],
   "source": [
    "model_path = \"../Models/SentimentModel_v0\"\n",
    "if os.path.exists(model_path):\n",
    "    import shutil\n",
    "    shutil.rmtree(model_path)\n",
    "model.write().overwrite().save(model_path)\n",
    "\n",
    "print(\"✅ Model trained and saved successfully!\")"
   ],
   "metadata": {
    "collapsed": false,
    "ExecuteTime": {
     "end_time": "2025-05-18T00:11:01.772040600Z",
     "start_time": "2025-05-18T00:10:59.746051100Z"
    }
   }
  },
  {
   "cell_type": "markdown",
   "source": [
    "# 11. Stop Spark"
   ],
   "metadata": {
    "collapsed": false
   }
  },
  {
   "cell_type": "code",
   "execution_count": 14,
   "outputs": [],
   "source": [
    "spark.stop()"
   ],
   "metadata": {
    "collapsed": false,
    "ExecuteTime": {
     "end_time": "2025-05-18T00:11:02.343585300Z",
     "start_time": "2025-05-18T00:11:01.772040600Z"
    }
   }
  },
  {
   "cell_type": "code",
   "execution_count": 14,
   "outputs": [],
   "source": [],
   "metadata": {
    "collapsed": false,
    "ExecuteTime": {
     "end_time": "2025-05-18T00:11:02.349192Z",
     "start_time": "2025-05-18T00:11:02.343585300Z"
    }
   }
  }
 ],
 "metadata": {
  "kernelspec": {
   "display_name": "Python 3",
   "language": "python",
   "name": "python3"
  },
  "language_info": {
   "codemirror_mode": {
    "name": "ipython",
    "version": 2
   },
   "file_extension": ".py",
   "mimetype": "text/x-python",
   "name": "python",
   "nbconvert_exporter": "python",
   "pygments_lexer": "ipython2",
   "version": "2.7.6"
  }
 },
 "nbformat": 4,
 "nbformat_minor": 0
}
