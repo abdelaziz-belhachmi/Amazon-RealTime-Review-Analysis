{
 "cells": [
  {
   "cell_type": "code",
   "execution_count": 1,
   "metadata": {
    "collapsed": true,
    "ExecuteTime": {
     "end_time": "2025-05-18T00:06:14.447154900Z",
     "start_time": "2025-05-18T00:05:52.287940500Z"
    }
   },
   "outputs": [],
   "source": [
    "from pyspark.sql import SparkSession\n",
    "\n",
    "# Initialize Spark session\n",
    "spark = SparkSession.builder \\\n",
    "    .appName(\"Amazon Review Split\") \\\n",
    "    .getOrCreate()\n",
    "\n",
    "# Load the JSON file\n",
    "df = spark.read.json(\"../Data/Data.json\")\n"
   ]
  },
  {
   "cell_type": "code",
   "execution_count": 2,
   "outputs": [],
   "source": [
    "# Split data: 80% training, 10% testing1, 10% testing2\n",
    "train_df, test1_df, test2_df = df.randomSplit([0.8, 0.1, 0.1], seed=42)\n"
   ],
   "metadata": {
    "collapsed": false,
    "ExecuteTime": {
     "end_time": "2025-05-18T00:06:14.513925200Z",
     "start_time": "2025-05-18T00:06:14.447154900Z"
    }
   }
  },
  {
   "cell_type": "code",
   "execution_count": 3,
   "outputs": [],
   "source": [
    "train_df.write.mode(\"overwrite\").json(\"../Data/train_data.json\")\n",
    "test1_df.write.mode(\"overwrite\").json(\"../Data/test1_data.json\")\n",
    "test2_df.write.mode(\"overwrite\").json(\"../Data/test2_data.json\")\n"
   ],
   "metadata": {
    "collapsed": false,
    "ExecuteTime": {
     "end_time": "2025-05-18T00:06:16.292371Z",
     "start_time": "2025-05-18T00:06:14.513925200Z"
    }
   }
  }
 ],
 "metadata": {
  "kernelspec": {
   "display_name": "Python 3",
   "language": "python",
   "name": "python3"
  },
  "language_info": {
   "codemirror_mode": {
    "name": "ipython",
    "version": 2
   },
   "file_extension": ".py",
   "mimetype": "text/x-python",
   "name": "python",
   "nbconvert_exporter": "python",
   "pygments_lexer": "ipython2",
   "version": "2.7.6"
  }
 },
 "nbformat": 4,
 "nbformat_minor": 0
}
